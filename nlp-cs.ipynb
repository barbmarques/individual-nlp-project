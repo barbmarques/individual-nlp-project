{
 "cells": [
  {
   "cell_type": "code",
   "execution_count": 1,
   "metadata": {},
   "outputs": [],
   "source": [
    "import pandas as pd\n",
    "import env\n",
    "import acquire, prepare\n",
    "import requests as req"
   ]
  },
  {
   "cell_type": "code",
   "execution_count": 2,
   "metadata": {
    "tags": []
   },
   "outputs": [
    {
     "name": "stdout",
     "output_type": "stream",
     "text": [
      "cybersecuritybase/cybersecuritybase.github.io\n",
      "dmalan/cybersecurity\n",
      "emadshanab/Basic-knowledge-requirements-for-cybersecurity-and-hacking\n",
      "CCrashZer0/CyberSecurityResources\n",
      "eclipse/capella-cybersecurity\n",
      "CyberSecurityUP/CyberSecurityUP\n",
      "wikibook/cybersecurity-with-blockchain\n",
      "chanie01234/Cybersecurity\n",
      "0x000N3X4N/cybersecurity\n",
      "laziestcoder/CyberSecurityCourse\n",
      "BaliDataMan/cybersecurityproject\n",
      "MobileGuru1013/cybersecurity-miw\n",
      "Ross015/CyberSecurityTools\n",
      "sdobbs88/CyberSecurityEncryptionProject\n",
      "cloudstitch/the-cybersecurity-factory\n",
      "prathameshSatya/Java-Summer-Project---CyberSecurity\n",
      "JonQuxBurton/CyberSecurityBasewithF-Secure\n",
      "spartixgit/cybersecurityquiz\n",
      "Lucy-SD-Developer/CyberSecurity\n",
      "Jasmeet-1998/CyberSecurity\n",
      "mar2nyuedu/cybersecurity\n",
      "SaadDamine/Cybersecurity\n",
      "HDuCoing/CyberSecurity\n",
      "ahoopes16/cybersecurity\n",
      "RafatKhandaker/CyberSecurity\n",
      "kundanv/CyberSecurity\n",
      "jacobtb64/cybersecurity\n",
      "cybersecurity4/cybersecurity4.github.io\n",
      "hadhehog/Cybersecurity\n",
      "rakeshelamaran98/CyberSecurity\n",
      "SandheepSridar/Cybersecurity-Assessment\n",
      "Genesis-2020/Cybersecurity_Project\n",
      "aomar6/UMN_Cybersecurity\n",
      "NatMk/Operational_Cybersecurity\n",
      "daylight-lab/cybersecurity-imagery\n",
      "raj161100/Web-Application-Cybersecurity\n",
      "CDFriend/Cybersecurity-Ethical-Hacking-2018\n",
      "cgajiwala/Database-project-for-Cybersecurity\n",
      "mnsupreme/Python_For_Cybersecurity\n",
      "Amur-Cybersecurity/Amur-Cybersecurity.github.io\n",
      "TarekHiemstra/cybersecuritybase-courseproject1\n",
      "Norah6/SDA_Cybersecurity_Bootcamp\n",
      "benchada/ML_CyberSecurity\n",
      "allahuphallahupa/Cybersecurity.test.ru\n",
      "fawad1997/CyberSecurityProjectMVC\n",
      "0xLockDown/CAT-CyberSecurity\n",
      "Charvik2020/CyberSecurity-University_of_Maryland\n",
      "acm-gmrit/cybersecurity\n",
      "RaphaelDiaz94/CyberSecurity\n",
      "zeynobia/CyberSecurity\n",
      "jitendrajoshiinnopad/CyberSecurity\n",
      "jneville945/Cybersecurity\n",
      "theydvgaurav/Cybersecurity\n",
      "cybersecurity2020/cybersecurity2020.github.io\n",
      "TheEvgenii/CybersecurityHW3\n",
      "alinapamfile/CybersecurityNews-Stage-1\n",
      "jaymaliye/CybersecurityStockAnalysis\n",
      "EvanTimko/CybersecurityUniversitySpring2021\n",
      "TheEvgenii/CybersecurityHW4\n",
      "alinapamfile/CybersecurityNews-Stage-2\n",
      "Sarthak1911/CyberSecurity\n",
      "amirhilmi/Cybersecurity\n",
      "nemnous/CyberSecurity\n",
      "Jasm4228/CyberSecurity\n",
      "BielxD/cybersecurity\n",
      "HarshVanasiwala-18/CyberSecurity\n",
      "bywbilly/NUS_CybersecurityCamp\n",
      "Sudiptobanerjee123/Java_Project_CybersecurityWorks\n",
      "sgangol/CSCE-4550\n",
      "MarwanAbdelatti/ICS_cybersec\n",
      "zerosmile/python-tools\n",
      "The20thDuck/nactf-2019\n",
      "classic89/UT-MCC-CYBER-PT-10-2019-U-C\n",
      "learngrowlive/cs_basics\n",
      "UTMUniverStuff/SI\n"
     ]
    }
   ],
   "source": [
    "#acquire github data on repos referencing 362 cyber security repositories\n",
    "scrape = acquire.scrape_github_data()"
   ]
  },
  {
   "cell_type": "code",
   "execution_count": 3,
   "metadata": {},
   "outputs": [
    {
     "data": {
      "text/plain": [
       "470"
      ]
     },
     "execution_count": 3,
     "metadata": {},
     "output_type": "execute_result"
    }
   ],
   "source": [
    "len(scrape)"
   ]
  },
  {
   "cell_type": "code",
   "execution_count": 4,
   "metadata": {},
   "outputs": [
    {
     "data": {
      "text/html": [
       "<div>\n",
       "<style scoped>\n",
       "    .dataframe tbody tr th:only-of-type {\n",
       "        vertical-align: middle;\n",
       "    }\n",
       "\n",
       "    .dataframe tbody tr th {\n",
       "        vertical-align: top;\n",
       "    }\n",
       "\n",
       "    .dataframe thead th {\n",
       "        text-align: right;\n",
       "    }\n",
       "</style>\n",
       "<table border=\"1\" class=\"dataframe\">\n",
       "  <thead>\n",
       "    <tr style=\"text-align: right;\">\n",
       "      <th></th>\n",
       "      <th>repo</th>\n",
       "      <th>language</th>\n",
       "      <th>readme_contents</th>\n",
       "    </tr>\n",
       "  </thead>\n",
       "  <tbody>\n",
       "    <tr>\n",
       "      <th>0</th>\n",
       "      <td>fabacab/awesome-cybersecurity-blueteam</td>\n",
       "      <td>None</td>\n",
       "      <td># Awesome Cybersecurity Blue Team [![Awesome](...</td>\n",
       "    </tr>\n",
       "    <tr>\n",
       "      <th>1</th>\n",
       "      <td>zer0yu/CyberSecurityRSS</td>\n",
       "      <td>None</td>\n",
       "      <td># CyberSecurityRSS\\n[中文文档](https://github.com/...</td>\n",
       "    </tr>\n",
       "    <tr>\n",
       "      <th>2</th>\n",
       "      <td>gerryguy311/Free_CyberSecurity_Professional_De...</td>\n",
       "      <td>None</td>\n",
       "      <td>&lt;p align=\"center\"&gt; &lt;img src=\"GerryMeMoji2.png\"...</td>\n",
       "    </tr>\n",
       "    <tr>\n",
       "      <th>3</th>\n",
       "      <td>harisqazi1/Cybersecurity</td>\n",
       "      <td>None</td>\n",
       "      <td>&lt;p align=\"center\"&gt;\\n  \\n[![GitHub stars](https...</td>\n",
       "    </tr>\n",
       "    <tr>\n",
       "      <th>4</th>\n",
       "      <td>shramos/Awesome-Cybersecurity-Datasets</td>\n",
       "      <td>None</td>\n",
       "      <td># Awesome-Cybersecurity-Datasets \\nA curated l...</td>\n",
       "    </tr>\n",
       "    <tr>\n",
       "      <th>...</th>\n",
       "      <td>...</td>\n",
       "      <td>...</td>\n",
       "      <td>...</td>\n",
       "    </tr>\n",
       "    <tr>\n",
       "      <th>465</th>\n",
       "      <td>marcoramilli/cybermomentum-web</td>\n",
       "      <td>CSS</td>\n",
       "      <td># cybermomentum-web\\nCyberSecurity Momentum. S...</td>\n",
       "    </tr>\n",
       "    <tr>\n",
       "      <th>466</th>\n",
       "      <td>tropicoo/zoneh</td>\n",
       "      <td>Python</td>\n",
       "      <td># zoneh\\nZone-H cybercrime archive monitoring ...</td>\n",
       "    </tr>\n",
       "    <tr>\n",
       "      <th>467</th>\n",
       "      <td>diogo-fernan/domfind</td>\n",
       "      <td>Python</td>\n",
       "      <td># *domfind*\\n\\n*domfind* is a Python 3.6.x uti...</td>\n",
       "    </tr>\n",
       "    <tr>\n",
       "      <th>468</th>\n",
       "      <td>joaovitorbf/nwam</td>\n",
       "      <td>Python</td>\n",
       "      <td>_   ___          __     __  __ \\n     | ...</td>\n",
       "    </tr>\n",
       "    <tr>\n",
       "      <th>469</th>\n",
       "      <td>Frazew/Cybersecurity-HackademINT</td>\n",
       "      <td>PHP</td>\n",
       "      <td># Cybersecurity - HackademINT\\n\\nhttps://hacka...</td>\n",
       "    </tr>\n",
       "  </tbody>\n",
       "</table>\n",
       "<p>470 rows × 3 columns</p>\n",
       "</div>"
      ],
      "text/plain": [
       "                                                  repo language  \\\n",
       "0               fabacab/awesome-cybersecurity-blueteam     None   \n",
       "1                              zer0yu/CyberSecurityRSS     None   \n",
       "2    gerryguy311/Free_CyberSecurity_Professional_De...     None   \n",
       "3                             harisqazi1/Cybersecurity     None   \n",
       "4               shramos/Awesome-Cybersecurity-Datasets     None   \n",
       "..                                                 ...      ...   \n",
       "465                     marcoramilli/cybermomentum-web      CSS   \n",
       "466                                     tropicoo/zoneh   Python   \n",
       "467                               diogo-fernan/domfind   Python   \n",
       "468                                   joaovitorbf/nwam   Python   \n",
       "469                   Frazew/Cybersecurity-HackademINT      PHP   \n",
       "\n",
       "                                       readme_contents  \n",
       "0    # Awesome Cybersecurity Blue Team [![Awesome](...  \n",
       "1    # CyberSecurityRSS\\n[中文文档](https://github.com/...  \n",
       "2    <p align=\"center\"> <img src=\"GerryMeMoji2.png\"...  \n",
       "3    <p align=\"center\">\\n  \\n[![GitHub stars](https...  \n",
       "4    # Awesome-Cybersecurity-Datasets \\nA curated l...  \n",
       "..                                                 ...  \n",
       "465  # cybermomentum-web\\nCyberSecurity Momentum. S...  \n",
       "466  # zoneh\\nZone-H cybercrime archive monitoring ...  \n",
       "467  # *domfind*\\n\\n*domfind* is a Python 3.6.x uti...  \n",
       "468        _   ___          __     __  __ \\n     | ...  \n",
       "469  # Cybersecurity - HackademINT\\n\\nhttps://hacka...  \n",
       "\n",
       "[470 rows x 3 columns]"
      ]
     },
     "execution_count": 4,
     "metadata": {},
     "output_type": "execute_result"
    }
   ],
   "source": [
    "df = pd.DataFrame(scrape)\n",
    "df"
   ]
  },
  {
   "cell_type": "code",
   "execution_count": 9,
   "metadata": {},
   "outputs": [],
   "source": [
    "data = df.to_csv('repo_readmes.csv')\n"
   ]
  },
  {
   "cell_type": "code",
   "execution_count": 10,
   "metadata": {},
   "outputs": [
    {
     "name": "stdout",
     "output_type": "stream",
     "text": [
      "<class 'pandas.core.frame.DataFrame'>\n",
      "RangeIndex: 470 entries, 0 to 469\n",
      "Data columns (total 3 columns):\n",
      " #   Column           Non-Null Count  Dtype \n",
      "---  ------           --------------  ----- \n",
      " 0   repo             470 non-null    object\n",
      " 1   language         305 non-null    object\n",
      " 2   readme_contents  470 non-null    object\n",
      "dtypes: object(3)\n",
      "memory usage: 11.1+ KB\n"
     ]
    }
   ],
   "source": [
    "df.info()"
   ]
  },
  {
   "cell_type": "code",
   "execution_count": 13,
   "metadata": {},
   "outputs": [
    {
     "name": "stdout",
     "output_type": "stream",
     "text": [
      "<class 'pandas.core.frame.DataFrame'>\n",
      "Int64Index: 305 entries, 5 to 469\n",
      "Data columns (total 3 columns):\n",
      " #   Column           Non-Null Count  Dtype \n",
      "---  ------           --------------  ----- \n",
      " 0   repo             305 non-null    object\n",
      " 1   language         305 non-null    object\n",
      " 2   readme_contents  305 non-null    object\n",
      "dtypes: object(3)\n",
      "memory usage: 9.5+ KB\n"
     ]
    }
   ],
   "source": [
    "df = df[df.language.notnull()]\n",
    "df.info()"
   ]
  },
  {
   "cell_type": "code",
   "execution_count": null,
   "metadata": {},
   "outputs": [],
   "source": [
    "# Dropped 165 nulls in language"
   ]
  },
  {
   "cell_type": "code",
   "execution_count": null,
   "metadata": {},
   "outputs": [],
   "source": []
  },
  {
   "cell_type": "code",
   "execution_count": 11,
   "metadata": {},
   "outputs": [
    {
     "data": {
      "text/plain": [
       "language\n",
       "Python              96\n",
       "Jupyter Notebook    39\n",
       "HTML                33\n",
       "Java                27\n",
       "Shell               18\n",
       "JavaScript          16\n",
       "CSS                 12\n",
       "C                   10\n",
       "PHP                  9\n",
       "C#                   8\n",
       "C++                  8\n",
       "TeX                  4\n",
       "PowerShell           3\n",
       "Dart                 2\n",
       "R                    2\n",
       "Ruby                 2\n",
       "Dockerfile           2\n",
       "Pug                  2\n",
       "Batchfile            1\n",
       "Go                   1\n",
       "Verilog              1\n",
       "HCL                  1\n",
       "Haxe                 1\n",
       "TypeScript           1\n",
       "Kotlin               1\n",
       "Objective-C          1\n",
       "Ren'Py               1\n",
       "SCSS                 1\n",
       "Scala                1\n",
       "Assembly             1\n",
       "dtype: int64"
      ]
     },
     "execution_count": 11,
     "metadata": {},
     "output_type": "execute_result"
    }
   ],
   "source": [
    "df.value_counts('language')"
   ]
  },
  {
   "cell_type": "code",
   "execution_count": null,
   "metadata": {},
   "outputs": [],
   "source": []
  },
  {
   "cell_type": "code",
   "execution_count": 8,
   "metadata": {},
   "outputs": [
    {
     "data": {
      "text/html": [
       "<div>\n",
       "<style scoped>\n",
       "    .dataframe tbody tr th:only-of-type {\n",
       "        vertical-align: middle;\n",
       "    }\n",
       "\n",
       "    .dataframe tbody tr th {\n",
       "        vertical-align: top;\n",
       "    }\n",
       "\n",
       "    .dataframe thead th {\n",
       "        text-align: right;\n",
       "    }\n",
       "</style>\n",
       "<table border=\"1\" class=\"dataframe\">\n",
       "  <thead>\n",
       "    <tr style=\"text-align: right;\">\n",
       "      <th></th>\n",
       "      <th>repo</th>\n",
       "      <th>language</th>\n",
       "      <th>readme_contents</th>\n",
       "    </tr>\n",
       "  </thead>\n",
       "  <tbody>\n",
       "    <tr>\n",
       "      <th>0</th>\n",
       "      <td>fabacab/awesome-cybersecurity-blueteam</td>\n",
       "      <td>None</td>\n",
       "      <td>awesome cybersecurity blue team awesomehttpsaw...</td>\n",
       "    </tr>\n",
       "    <tr>\n",
       "      <th>1</th>\n",
       "      <td>zer0yu/CyberSecurityRSS</td>\n",
       "      <td>None</td>\n",
       "      <td>cybersecurityrss httpsgithubcomzer0yucybersecu...</td>\n",
       "    </tr>\n",
       "    <tr>\n",
       "      <th>2</th>\n",
       "      <td>gerryguy311/Free_CyberSecurity_Professional_De...</td>\n",
       "      <td>None</td>\n",
       "      <td>p aligncenter img srcgerrymemoji2png p awesome...</td>\n",
       "    </tr>\n",
       "    <tr>\n",
       "      <th>3</th>\n",
       "      <td>harisqazi1/Cybersecurity</td>\n",
       "      <td>None</td>\n",
       "      <td>p aligncenter github starshttpsimgshieldsiogit...</td>\n",
       "    </tr>\n",
       "    <tr>\n",
       "      <th>4</th>\n",
       "      <td>shramos/Awesome-Cybersecurity-Datasets</td>\n",
       "      <td>None</td>\n",
       "      <td>awesomecybersecuritydatasets curated list amaz...</td>\n",
       "    </tr>\n",
       "  </tbody>\n",
       "</table>\n",
       "</div>"
      ],
      "text/plain": [
       "                                                repo language  \\\n",
       "0             fabacab/awesome-cybersecurity-blueteam     None   \n",
       "1                            zer0yu/CyberSecurityRSS     None   \n",
       "2  gerryguy311/Free_CyberSecurity_Professional_De...     None   \n",
       "3                           harisqazi1/Cybersecurity     None   \n",
       "4             shramos/Awesome-Cybersecurity-Datasets     None   \n",
       "\n",
       "                                     readme_contents  \n",
       "0  awesome cybersecurity blue team awesomehttpsaw...  \n",
       "1  cybersecurityrss httpsgithubcomzer0yucybersecu...  \n",
       "2  p aligncenter img srcgerrymemoji2png p awesome...  \n",
       "3  p aligncenter github starshttpsimgshieldsiogit...  \n",
       "4  awesomecybersecuritydatasets curated list amaz...  "
      ]
     },
     "execution_count": 8,
     "metadata": {},
     "output_type": "execute_result"
    }
   ],
   "source": [
    "# prepare the data by applying the clean function\n",
    "df.readme_contents = df.readme_contents.apply(prepare.clean)\n",
    "df.head()"
   ]
  },
  {
   "cell_type": "code",
   "execution_count": null,
   "metadata": {},
   "outputs": [],
   "source": []
  }
 ],
 "metadata": {
  "kernelspec": {
   "display_name": "Python 3",
   "language": "python",
   "name": "python3"
  },
  "language_info": {
   "codemirror_mode": {
    "name": "ipython",
    "version": 3
   },
   "file_extension": ".py",
   "mimetype": "text/x-python",
   "name": "python",
   "nbconvert_exporter": "python",
   "pygments_lexer": "ipython3",
   "version": "3.8.5"
  }
 },
 "nbformat": 4,
 "nbformat_minor": 4
}
